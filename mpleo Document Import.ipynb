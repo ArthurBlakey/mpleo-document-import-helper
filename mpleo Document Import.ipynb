{
 "cells": [
  {
   "cell_type": "markdown",
   "metadata": {},
   "source": [
    "# Goal is to create a file structure so that it can easily import all the documents in the tree"
   ]
  },
  {
   "cell_type": "markdown",
   "metadata": {},
   "source": [
    "import necessary modules"
   ]
  },
  {
   "cell_type": "code",
   "execution_count": null,
   "metadata": {
    "collapsed": true
   },
   "outputs": [],
   "source": [
    "import os\n",
    "import pandas as pd"
   ]
  },
  {
   "cell_type": "markdown",
   "metadata": {},
   "source": [
    "Open excels in dataframes"
   ]
  },
  {
   "cell_type": "code",
   "execution_count": null,
   "metadata": {
    "collapsed": true
   },
   "outputs": [],
   "source": [
    "os.chdir(\"/Users/myname/Jupyter notebooks/Filetree for import documents/\")\n",
    "\n",
    "df1 = pd.read_excel(\"export (64).xlsx\")\n",
    "df2 = pd.read_excel(\"export (65).xlsx\")"
   ]
  },
  {
   "cell_type": "markdown",
   "metadata": {},
   "source": [
    "per row in dataframe1 create a folder per employee and create a subfolder for each document type"
   ]
  },
  {
   "cell_type": "code",
   "execution_count": null,
   "metadata": {
    "collapsed": true
   },
   "outputs": [],
   "source": [
    "os.mkdir(\"ImportDocument\")\n",
    "\n",
    "\n",
    "for index, row in df1.iterrows():\n",
    "    os.chdir(\"/Users/myname/Jupyter notebooks/Filetree for import documents/ImportDocument\")\n",
    "    folder = str(row[\"Code medewerker\"])\n",
    "    os.mkdir(folder)\n",
    "    os.chdir(folder)\n",
    "    for index, row in df2.iterrows():\n",
    "        subfolder = str(row[\"Code\"])\n",
    "        os.mkdir(subfolder)"
   ]
  },
  {
   "cell_type": "code",
   "execution_count": null,
   "metadata": {
    "collapsed": true
   },
   "outputs": [],
   "source": []
  }
 ],
 "metadata": {
  "kernelspec": {
   "display_name": "Python 3",
   "language": "python",
   "name": "python3"
  },
  "language_info": {
   "codemirror_mode": {
    "name": "ipython",
    "version": 3
   },
   "file_extension": ".py",
   "mimetype": "text/x-python",
   "name": "python",
   "nbconvert_exporter": "python",
   "pygments_lexer": "ipython3",
   "version": "3.6.6"
  }
 },
 "nbformat": 4,
 "nbformat_minor": 2
}
